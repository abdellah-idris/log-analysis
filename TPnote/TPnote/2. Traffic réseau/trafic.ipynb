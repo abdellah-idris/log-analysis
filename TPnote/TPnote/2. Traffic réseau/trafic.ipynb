{
 "cells": [
  {
   "cell_type": "markdown",
   "metadata": {},
   "source": [
    "# Analyse réseau"
   ]
  },
  {
   "cell_type": "code",
   "execution_count": 1,
   "metadata": {},
   "outputs": [
    {
     "name": "stderr",
     "output_type": "stream",
     "text": [
      "WARNING: Wireshark is installed, but cannot read manuf !\n"
     ]
    }
   ],
   "source": [
    "from scapy.all import *\n",
    "import pandas as pd\n"
   ]
  },
  {
   "cell_type": "markdown",
   "metadata": {},
   "source": [
    "capture1 :\n",
    "    protocole : "
   ]
  },
  {
   "cell_type": "markdown",
   "metadata": {},
   "source": [
    "capture2 :\n",
    "    protocole : "
   ]
  },
  {
   "cell_type": "markdown",
   "metadata": {},
   "source": [
    "# Read"
   ]
  },
  {
   "cell_type": "code",
   "execution_count": 2,
   "metadata": {},
   "outputs": [],
   "source": [
    "def read_pcap(file_path):\n",
    "    packets = rdpcap(file_path)\n",
    "    print(f\"Nombre total de paquets dans {file_path}: {len(packets)}\")\n",
    "\n",
    "    return packets"
   ]
  },
  {
   "cell_type": "code",
   "execution_count": 3,
   "metadata": {},
   "outputs": [
    {
     "name": "stdout",
     "output_type": "stream",
     "text": [
      "Nombre total de paquets dans capture 1.pcapng: 100930\n",
      "Nombre total de paquets dans capture 2.pcapng: 317593\n"
     ]
    }
   ],
   "source": [
    "# Lire le fichier pcap\n",
    "capture1 = read_pcap(\"capture 1.pcapng\")\n",
    "capture2 = read_pcap(\"capture 2.pcapng\")"
   ]
  },
  {
   "cell_type": "code",
   "execution_count": 4,
   "metadata": {},
   "outputs": [
    {
     "name": "stdout",
     "output_type": "stream",
     "text": [
      "Nombre total de paquets dans anomalies1.pcapng: 739\n",
      "Nombre total de paquets dans anomalies2.pcapng: 29551\n"
     ]
    }
   ],
   "source": [
    "anomalies_capture1 = read_pcap(\"anomalies1.pcapng\")\n",
    "anomalies_capture2 = read_pcap(\"anomalies2.pcapng\")"
   ]
  },
  {
   "cell_type": "markdown",
   "metadata": {},
   "source": [
    "## Create DF"
   ]
  },
  {
   "cell_type": "markdown",
   "metadata": {},
   "source": [
    "### Information de chaque paquet"
   ]
  },
  {
   "cell_type": "code",
   "execution_count": 5,
   "metadata": {},
   "outputs": [],
   "source": [
    "def extract_packet_info(packets):\n",
    "    # Initialize lists to store packet information\n",
    "    src_ip_list = []\n",
    "    dst_ip_list = []\n",
    "    src_port_list = []\n",
    "    dst_port_list = []\n",
    "    protocol_list = []\n",
    "    packet_size_list = []\n",
    "    time_delta_list = []\n",
    "    packet_type_list = []\n",
    "\n",
    "    # Extract packet information\n",
    "    prev_packet_time = None\n",
    "    for packet in packets:\n",
    "        # Extract source and destination IP addresses\n",
    "        src_ip = packet[IP].src if IP in packet else None\n",
    "        dst_ip = packet[IP].dst if IP in packet else None\n",
    "\n",
    "        # Extract source and destination ports if available\n",
    "        if IP in packet:\n",
    "            src_port = packet[IP].sport if hasattr(packet[IP], 'sport') else None\n",
    "            dst_port = packet[IP].dport if hasattr(packet[IP], 'dport') else None\n",
    "        else:\n",
    "            src_port, dst_port = None, None\n",
    "\n",
    "        # Extract transport layer protocol if available\n",
    "        protocol = packet[IP].proto if IP in packet else None\n",
    "\n",
    "        # Extract packet size\n",
    "        packet_size = len(packet)\n",
    "\n",
    "        # Calculate time delta (time elapsed since the previous packet)\n",
    "        current_packet_time = packet.time\n",
    "        time_delta = current_packet_time - prev_packet_time if prev_packet_time else None\n",
    "        prev_packet_time = current_packet_time\n",
    "\n",
    "        # Extract packet type (data or control packet)\n",
    "        packet_type = \"Data\" if packet.haslayer(Raw) else \"Control\"\n",
    "\n",
    "\n",
    "        # Append extracted information and error status to lists\n",
    "        src_ip_list.append(src_ip)\n",
    "        dst_ip_list.append(dst_ip)\n",
    "        src_port_list.append(src_port)\n",
    "        dst_port_list.append(dst_port)\n",
    "        protocol_list.append(protocol)\n",
    "        packet_size_list.append(packet_size)\n",
    "        time_delta_list.append(time_delta)\n",
    "        packet_type_list.append(packet_type)\n",
    "\n",
    "    # Create a DataFrame from the lists\n",
    "    packet_df = pd.DataFrame({\n",
    "        'Source_IP': src_ip_list,\n",
    "        'Destination_IP': dst_ip_list,\n",
    "        'Source_Port': src_port_list,\n",
    "        'Destination_Port': dst_port_list,\n",
    "        'Protocol': protocol_list,\n",
    "        'Packet_Size': packet_size_list,\n",
    "        'Time_Delta': time_delta_list,\n",
    "        'Packet_Type': packet_type_list,\n",
    "    })\n",
    "\n",
    "    return packet_df\n"
   ]
  },
  {
   "cell_type": "code",
   "execution_count": 6,
   "metadata": {},
   "outputs": [
    {
     "data": {
      "text/html": [
       "<div>\n",
       "<style scoped>\n",
       "    .dataframe tbody tr th:only-of-type {\n",
       "        vertical-align: middle;\n",
       "    }\n",
       "\n",
       "    .dataframe tbody tr th {\n",
       "        vertical-align: top;\n",
       "    }\n",
       "\n",
       "    .dataframe thead th {\n",
       "        text-align: right;\n",
       "    }\n",
       "</style>\n",
       "<table border=\"1\" class=\"dataframe\">\n",
       "  <thead>\n",
       "    <tr style=\"text-align: right;\">\n",
       "      <th></th>\n",
       "      <th>Source_IP</th>\n",
       "      <th>Destination_IP</th>\n",
       "      <th>Source_Port</th>\n",
       "      <th>Destination_Port</th>\n",
       "      <th>Protocol</th>\n",
       "      <th>Packet_Size</th>\n",
       "      <th>Time_Delta</th>\n",
       "      <th>Packet_Type</th>\n",
       "    </tr>\n",
       "  </thead>\n",
       "  <tbody>\n",
       "    <tr>\n",
       "      <th>0</th>\n",
       "      <td>172.18.226.121</td>\n",
       "      <td>192.168.229.51</td>\n",
       "      <td>52255.0</td>\n",
       "      <td>10443.0</td>\n",
       "      <td>6.0</td>\n",
       "      <td>60</td>\n",
       "      <td>None</td>\n",
       "      <td>Control</td>\n",
       "    </tr>\n",
       "    <tr>\n",
       "      <th>1</th>\n",
       "      <td>172.18.226.121</td>\n",
       "      <td>192.168.229.51</td>\n",
       "      <td>52255.0</td>\n",
       "      <td>10443.0</td>\n",
       "      <td>6.0</td>\n",
       "      <td>124</td>\n",
       "      <td>0.000332</td>\n",
       "      <td>Data</td>\n",
       "    </tr>\n",
       "    <tr>\n",
       "      <th>2</th>\n",
       "      <td>192.168.229.51</td>\n",
       "      <td>172.18.226.121</td>\n",
       "      <td>4500.0</td>\n",
       "      <td>64916.0</td>\n",
       "      <td>17.0</td>\n",
       "      <td>146</td>\n",
       "      <td>0.000002</td>\n",
       "      <td>Control</td>\n",
       "    </tr>\n",
       "    <tr>\n",
       "      <th>3</th>\n",
       "      <td>172.18.226.121</td>\n",
       "      <td>192.168.229.51</td>\n",
       "      <td>52255.0</td>\n",
       "      <td>10443.0</td>\n",
       "      <td>6.0</td>\n",
       "      <td>124</td>\n",
       "      <td>0.000159</td>\n",
       "      <td>Data</td>\n",
       "    </tr>\n",
       "    <tr>\n",
       "      <th>4</th>\n",
       "      <td>172.18.226.121</td>\n",
       "      <td>192.168.229.51</td>\n",
       "      <td>52255.0</td>\n",
       "      <td>10443.0</td>\n",
       "      <td>6.0</td>\n",
       "      <td>134</td>\n",
       "      <td>0.000002</td>\n",
       "      <td>Data</td>\n",
       "    </tr>\n",
       "  </tbody>\n",
       "</table>\n",
       "</div>"
      ],
      "text/plain": [
       "        Source_IP  Destination_IP  Source_Port  Destination_Port  Protocol  \\\n",
       "0  172.18.226.121  192.168.229.51      52255.0           10443.0       6.0   \n",
       "1  172.18.226.121  192.168.229.51      52255.0           10443.0       6.0   \n",
       "2  192.168.229.51  172.18.226.121       4500.0           64916.0      17.0   \n",
       "3  172.18.226.121  192.168.229.51      52255.0           10443.0       6.0   \n",
       "4  172.18.226.121  192.168.229.51      52255.0           10443.0       6.0   \n",
       "\n",
       "   Packet_Size Time_Delta Packet_Type  \n",
       "0           60       None     Control  \n",
       "1          124   0.000332        Data  \n",
       "2          146   0.000002     Control  \n",
       "3          124   0.000159        Data  \n",
       "4          134   0.000002        Data  "
      ]
     },
     "execution_count": 6,
     "metadata": {},
     "output_type": "execute_result"
    }
   ],
   "source": [
    "capture1_df = extract_packet_info(capture1)\n",
    "capture1_df.head()"
   ]
  },
  {
   "cell_type": "code",
   "execution_count": 7,
   "metadata": {},
   "outputs": [
    {
     "data": {
      "text/plain": [
       "(100930, 8)"
      ]
     },
     "execution_count": 7,
     "metadata": {},
     "output_type": "execute_result"
    }
   ],
   "source": [
    "capture1_df.shape"
   ]
  },
  {
   "cell_type": "code",
   "execution_count": 8,
   "metadata": {},
   "outputs": [
    {
     "data": {
      "text/html": [
       "<div>\n",
       "<style scoped>\n",
       "    .dataframe tbody tr th:only-of-type {\n",
       "        vertical-align: middle;\n",
       "    }\n",
       "\n",
       "    .dataframe tbody tr th {\n",
       "        vertical-align: top;\n",
       "    }\n",
       "\n",
       "    .dataframe thead th {\n",
       "        text-align: right;\n",
       "    }\n",
       "</style>\n",
       "<table border=\"1\" class=\"dataframe\">\n",
       "  <thead>\n",
       "    <tr style=\"text-align: right;\">\n",
       "      <th></th>\n",
       "      <th>Source_IP</th>\n",
       "      <th>Destination_IP</th>\n",
       "      <th>Source_Port</th>\n",
       "      <th>Destination_Port</th>\n",
       "      <th>Protocol</th>\n",
       "      <th>Packet_Size</th>\n",
       "      <th>Time_Delta</th>\n",
       "      <th>Packet_Type</th>\n",
       "    </tr>\n",
       "  </thead>\n",
       "  <tbody>\n",
       "    <tr>\n",
       "      <th>0</th>\n",
       "      <td>40.115.19.176</td>\n",
       "      <td>10.200.0.130</td>\n",
       "      <td>443.0</td>\n",
       "      <td>53841.0</td>\n",
       "      <td>6.0</td>\n",
       "      <td>60</td>\n",
       "      <td>None</td>\n",
       "      <td>Control</td>\n",
       "    </tr>\n",
       "    <tr>\n",
       "      <th>1</th>\n",
       "      <td>40.115.19.176</td>\n",
       "      <td>10.200.0.130</td>\n",
       "      <td>443.0</td>\n",
       "      <td>53841.0</td>\n",
       "      <td>6.0</td>\n",
       "      <td>60</td>\n",
       "      <td>0.000004</td>\n",
       "      <td>Control</td>\n",
       "    </tr>\n",
       "    <tr>\n",
       "      <th>2</th>\n",
       "      <td>10.200.0.130</td>\n",
       "      <td>40.115.19.176</td>\n",
       "      <td>53841.0</td>\n",
       "      <td>443.0</td>\n",
       "      <td>6.0</td>\n",
       "      <td>60</td>\n",
       "      <td>0.000001</td>\n",
       "      <td>Control</td>\n",
       "    </tr>\n",
       "    <tr>\n",
       "      <th>3</th>\n",
       "      <td>5.249.120.14</td>\n",
       "      <td>10.200.0.130</td>\n",
       "      <td>10650.0</td>\n",
       "      <td>4500.0</td>\n",
       "      <td>17.0</td>\n",
       "      <td>166</td>\n",
       "      <td>0.000001</td>\n",
       "      <td>Control</td>\n",
       "    </tr>\n",
       "    <tr>\n",
       "      <th>4</th>\n",
       "      <td>10.200.0.130</td>\n",
       "      <td>5.249.120.14</td>\n",
       "      <td>4500.0</td>\n",
       "      <td>10650.0</td>\n",
       "      <td>17.0</td>\n",
       "      <td>118</td>\n",
       "      <td>0.000001</td>\n",
       "      <td>Control</td>\n",
       "    </tr>\n",
       "  </tbody>\n",
       "</table>\n",
       "</div>"
      ],
      "text/plain": [
       "       Source_IP Destination_IP  Source_Port  Destination_Port  Protocol  \\\n",
       "0  40.115.19.176   10.200.0.130        443.0           53841.0       6.0   \n",
       "1  40.115.19.176   10.200.0.130        443.0           53841.0       6.0   \n",
       "2   10.200.0.130  40.115.19.176      53841.0             443.0       6.0   \n",
       "3   5.249.120.14   10.200.0.130      10650.0            4500.0      17.0   \n",
       "4   10.200.0.130   5.249.120.14       4500.0           10650.0      17.0   \n",
       "\n",
       "   Packet_Size Time_Delta Packet_Type  \n",
       "0           60       None     Control  \n",
       "1           60   0.000004     Control  \n",
       "2           60   0.000001     Control  \n",
       "3          166   0.000001     Control  \n",
       "4          118   0.000001     Control  "
      ]
     },
     "execution_count": 8,
     "metadata": {},
     "output_type": "execute_result"
    }
   ],
   "source": [
    "capture2_df = extract_packet_info(capture2)\n",
    "capture2_df.head()"
   ]
  },
  {
   "cell_type": "markdown",
   "metadata": {},
   "source": [
    "### Anomalies"
   ]
  },
  {
   "cell_type": "code",
   "execution_count": 9,
   "metadata": {},
   "outputs": [],
   "source": [
    "\n",
    "anomalies_capture1_df = extract_packet_info(anomalies_capture1)\n"
   ]
  },
  {
   "cell_type": "code",
   "execution_count": 10,
   "metadata": {},
   "outputs": [
    {
     "data": {
      "text/html": [
       "<div>\n",
       "<style scoped>\n",
       "    .dataframe tbody tr th:only-of-type {\n",
       "        vertical-align: middle;\n",
       "    }\n",
       "\n",
       "    .dataframe tbody tr th {\n",
       "        vertical-align: top;\n",
       "    }\n",
       "\n",
       "    .dataframe thead th {\n",
       "        text-align: right;\n",
       "    }\n",
       "</style>\n",
       "<table border=\"1\" class=\"dataframe\">\n",
       "  <thead>\n",
       "    <tr style=\"text-align: right;\">\n",
       "      <th></th>\n",
       "      <th>Source_IP</th>\n",
       "      <th>Destination_IP</th>\n",
       "      <th>Source_Port</th>\n",
       "      <th>Destination_Port</th>\n",
       "      <th>Protocol</th>\n",
       "      <th>Packet_Size</th>\n",
       "      <th>Time_Delta</th>\n",
       "      <th>Packet_Type</th>\n",
       "    </tr>\n",
       "  </thead>\n",
       "  <tbody>\n",
       "    <tr>\n",
       "      <th>0</th>\n",
       "      <td>172.20.1.154</td>\n",
       "      <td>239.255.255.250</td>\n",
       "      <td>54094.0</td>\n",
       "      <td>1900.0</td>\n",
       "      <td>17.0</td>\n",
       "      <td>216</td>\n",
       "      <td>None</td>\n",
       "      <td>Data</td>\n",
       "    </tr>\n",
       "    <tr>\n",
       "      <th>1</th>\n",
       "      <td>172.18.226.121</td>\n",
       "      <td>192.168.229.51</td>\n",
       "      <td>52255.0</td>\n",
       "      <td>10443.0</td>\n",
       "      <td>6.0</td>\n",
       "      <td>66</td>\n",
       "      <td>0.659880</td>\n",
       "      <td>Control</td>\n",
       "    </tr>\n",
       "    <tr>\n",
       "      <th>2</th>\n",
       "      <td>172.18.226.121</td>\n",
       "      <td>192.168.229.51</td>\n",
       "      <td>52255.0</td>\n",
       "      <td>10443.0</td>\n",
       "      <td>6.0</td>\n",
       "      <td>66</td>\n",
       "      <td>0.000000</td>\n",
       "      <td>Control</td>\n",
       "    </tr>\n",
       "    <tr>\n",
       "      <th>3</th>\n",
       "      <td>172.18.226.121</td>\n",
       "      <td>192.168.229.51</td>\n",
       "      <td>52255.0</td>\n",
       "      <td>10443.0</td>\n",
       "      <td>6.0</td>\n",
       "      <td>66</td>\n",
       "      <td>0.000000</td>\n",
       "      <td>Control</td>\n",
       "    </tr>\n",
       "    <tr>\n",
       "      <th>4</th>\n",
       "      <td>172.18.226.121</td>\n",
       "      <td>192.168.229.51</td>\n",
       "      <td>52255.0</td>\n",
       "      <td>10443.0</td>\n",
       "      <td>6.0</td>\n",
       "      <td>66</td>\n",
       "      <td>0.000819</td>\n",
       "      <td>Control</td>\n",
       "    </tr>\n",
       "  </tbody>\n",
       "</table>\n",
       "</div>"
      ],
      "text/plain": [
       "        Source_IP   Destination_IP  Source_Port  Destination_Port  Protocol  \\\n",
       "0    172.20.1.154  239.255.255.250      54094.0            1900.0      17.0   \n",
       "1  172.18.226.121   192.168.229.51      52255.0           10443.0       6.0   \n",
       "2  172.18.226.121   192.168.229.51      52255.0           10443.0       6.0   \n",
       "3  172.18.226.121   192.168.229.51      52255.0           10443.0       6.0   \n",
       "4  172.18.226.121   192.168.229.51      52255.0           10443.0       6.0   \n",
       "\n",
       "   Packet_Size Time_Delta Packet_Type  \n",
       "0          216       None        Data  \n",
       "1           66   0.659880     Control  \n",
       "2           66   0.000000     Control  \n",
       "3           66   0.000000     Control  \n",
       "4           66   0.000819     Control  "
      ]
     },
     "execution_count": 10,
     "metadata": {},
     "output_type": "execute_result"
    }
   ],
   "source": [
    "anomalies_capture1_df.head()"
   ]
  },
  {
   "cell_type": "code",
   "execution_count": 11,
   "metadata": {},
   "outputs": [
    {
     "data": {
      "text/html": [
       "<div>\n",
       "<style scoped>\n",
       "    .dataframe tbody tr th:only-of-type {\n",
       "        vertical-align: middle;\n",
       "    }\n",
       "\n",
       "    .dataframe tbody tr th {\n",
       "        vertical-align: top;\n",
       "    }\n",
       "\n",
       "    .dataframe thead th {\n",
       "        text-align: right;\n",
       "    }\n",
       "</style>\n",
       "<table border=\"1\" class=\"dataframe\">\n",
       "  <thead>\n",
       "    <tr style=\"text-align: right;\">\n",
       "      <th></th>\n",
       "      <th>Source_IP</th>\n",
       "      <th>Destination_IP</th>\n",
       "      <th>Source_Port</th>\n",
       "      <th>Destination_Port</th>\n",
       "      <th>Protocol</th>\n",
       "      <th>Packet_Size</th>\n",
       "      <th>Time_Delta</th>\n",
       "      <th>Packet_Type</th>\n",
       "    </tr>\n",
       "  </thead>\n",
       "  <tbody>\n",
       "    <tr>\n",
       "      <th>0</th>\n",
       "      <td>5.249.120.14</td>\n",
       "      <td>10.200.0.130</td>\n",
       "      <td>10650.0</td>\n",
       "      <td>4500.0</td>\n",
       "      <td>17.0</td>\n",
       "      <td>258</td>\n",
       "      <td>None</td>\n",
       "      <td>Control</td>\n",
       "    </tr>\n",
       "    <tr>\n",
       "      <th>1</th>\n",
       "      <td>5.249.120.14</td>\n",
       "      <td>10.200.0.130</td>\n",
       "      <td>10650.0</td>\n",
       "      <td>4500.0</td>\n",
       "      <td>17.0</td>\n",
       "      <td>118</td>\n",
       "      <td>0.023162</td>\n",
       "      <td>Control</td>\n",
       "    </tr>\n",
       "    <tr>\n",
       "      <th>2</th>\n",
       "      <td>5.249.120.14</td>\n",
       "      <td>10.200.0.130</td>\n",
       "      <td>10650.0</td>\n",
       "      <td>4500.0</td>\n",
       "      <td>17.0</td>\n",
       "      <td>226</td>\n",
       "      <td>0.012319</td>\n",
       "      <td>Control</td>\n",
       "    </tr>\n",
       "    <tr>\n",
       "      <th>3</th>\n",
       "      <td>5.249.120.14</td>\n",
       "      <td>10.200.0.130</td>\n",
       "      <td>10650.0</td>\n",
       "      <td>4500.0</td>\n",
       "      <td>17.0</td>\n",
       "      <td>118</td>\n",
       "      <td>0.004757</td>\n",
       "      <td>Control</td>\n",
       "    </tr>\n",
       "    <tr>\n",
       "      <th>4</th>\n",
       "      <td>5.249.120.14</td>\n",
       "      <td>10.200.0.130</td>\n",
       "      <td>10650.0</td>\n",
       "      <td>4500.0</td>\n",
       "      <td>17.0</td>\n",
       "      <td>374</td>\n",
       "      <td>0.014341</td>\n",
       "      <td>Control</td>\n",
       "    </tr>\n",
       "  </tbody>\n",
       "</table>\n",
       "</div>"
      ],
      "text/plain": [
       "      Source_IP Destination_IP  Source_Port  Destination_Port  Protocol  \\\n",
       "0  5.249.120.14   10.200.0.130      10650.0            4500.0      17.0   \n",
       "1  5.249.120.14   10.200.0.130      10650.0            4500.0      17.0   \n",
       "2  5.249.120.14   10.200.0.130      10650.0            4500.0      17.0   \n",
       "3  5.249.120.14   10.200.0.130      10650.0            4500.0      17.0   \n",
       "4  5.249.120.14   10.200.0.130      10650.0            4500.0      17.0   \n",
       "\n",
       "   Packet_Size Time_Delta Packet_Type  \n",
       "0          258       None     Control  \n",
       "1          118   0.023162     Control  \n",
       "2          226   0.012319     Control  \n",
       "3          118   0.004757     Control  \n",
       "4          374   0.014341     Control  "
      ]
     },
     "execution_count": 11,
     "metadata": {},
     "output_type": "execute_result"
    }
   ],
   "source": [
    "anomalies_capture2_df = extract_packet_info(anomalies_capture2)\n",
    "anomalies_capture2_df.head()"
   ]
  },
  {
   "cell_type": "markdown",
   "metadata": {},
   "source": [
    "### Create final df"
   ]
  },
  {
   "cell_type": "code",
   "execution_count": 12,
   "metadata": {},
   "outputs": [
    {
     "data": {
      "text/plain": [
       "(100930, 8)"
      ]
     },
     "execution_count": 12,
     "metadata": {},
     "output_type": "execute_result"
    }
   ],
   "source": [
    "capture1_df.shape"
   ]
  },
  {
   "cell_type": "code",
   "execution_count": 30,
   "metadata": {},
   "outputs": [
    {
     "name": "stdout",
     "output_type": "stream",
     "text": [
      "Number of duplicate rows: 79474\n"
     ]
    }
   ],
   "source": [
    "# Count the number of duplicate rows\n",
    "num_duplicates = capture1_df.duplicated().sum()\n",
    "\n",
    "print(\"Number of duplicate rows:\", num_duplicates)\n"
   ]
  },
  {
   "cell_type": "code",
   "execution_count": 13,
   "metadata": {},
   "outputs": [
    {
     "data": {
      "text/plain": [
       "(739, 8)"
      ]
     },
     "execution_count": 13,
     "metadata": {},
     "output_type": "execute_result"
    }
   ],
   "source": [
    "anomalies_capture1_df.shape"
   ]
  },
  {
   "cell_type": "code",
   "execution_count": 31,
   "metadata": {},
   "outputs": [
    {
     "name": "stdout",
     "output_type": "stream",
     "text": [
      "Number of duplicate rows: 246\n"
     ]
    }
   ],
   "source": [
    "# Count the number of duplicate rows\n",
    "num_duplicates = anomalies_capture1_df.duplicated().sum()\n",
    "\n",
    "print(\"Number of duplicate rows:\", num_duplicates)\n"
   ]
  },
  {
   "cell_type": "code",
   "execution_count": 14,
   "metadata": {},
   "outputs": [
    {
     "data": {
      "text/html": [
       "<div>\n",
       "<style scoped>\n",
       "    .dataframe tbody tr th:only-of-type {\n",
       "        vertical-align: middle;\n",
       "    }\n",
       "\n",
       "    .dataframe tbody tr th {\n",
       "        vertical-align: top;\n",
       "    }\n",
       "\n",
       "    .dataframe thead th {\n",
       "        text-align: right;\n",
       "    }\n",
       "</style>\n",
       "<table border=\"1\" class=\"dataframe\">\n",
       "  <thead>\n",
       "    <tr style=\"text-align: right;\">\n",
       "      <th></th>\n",
       "      <th>Source_IP</th>\n",
       "      <th>Destination_IP</th>\n",
       "      <th>Source_Port</th>\n",
       "      <th>Destination_Port</th>\n",
       "      <th>Protocol</th>\n",
       "      <th>Packet_Size</th>\n",
       "      <th>Time_Delta</th>\n",
       "      <th>Packet_Type</th>\n",
       "    </tr>\n",
       "  </thead>\n",
       "  <tbody>\n",
       "    <tr>\n",
       "      <th>0</th>\n",
       "      <td>172.18.226.121</td>\n",
       "      <td>192.168.229.51</td>\n",
       "      <td>52255.0</td>\n",
       "      <td>10443.0</td>\n",
       "      <td>6.0</td>\n",
       "      <td>60</td>\n",
       "      <td>None</td>\n",
       "      <td>Control</td>\n",
       "    </tr>\n",
       "    <tr>\n",
       "      <th>1</th>\n",
       "      <td>172.18.226.121</td>\n",
       "      <td>192.168.229.51</td>\n",
       "      <td>52255.0</td>\n",
       "      <td>10443.0</td>\n",
       "      <td>6.0</td>\n",
       "      <td>124</td>\n",
       "      <td>0.000332</td>\n",
       "      <td>Data</td>\n",
       "    </tr>\n",
       "    <tr>\n",
       "      <th>2</th>\n",
       "      <td>192.168.229.51</td>\n",
       "      <td>172.18.226.121</td>\n",
       "      <td>4500.0</td>\n",
       "      <td>64916.0</td>\n",
       "      <td>17.0</td>\n",
       "      <td>146</td>\n",
       "      <td>0.000002</td>\n",
       "      <td>Control</td>\n",
       "    </tr>\n",
       "    <tr>\n",
       "      <th>3</th>\n",
       "      <td>172.18.226.121</td>\n",
       "      <td>192.168.229.51</td>\n",
       "      <td>52255.0</td>\n",
       "      <td>10443.0</td>\n",
       "      <td>6.0</td>\n",
       "      <td>124</td>\n",
       "      <td>0.000159</td>\n",
       "      <td>Data</td>\n",
       "    </tr>\n",
       "    <tr>\n",
       "      <th>4</th>\n",
       "      <td>172.18.226.121</td>\n",
       "      <td>192.168.229.51</td>\n",
       "      <td>52255.0</td>\n",
       "      <td>10443.0</td>\n",
       "      <td>6.0</td>\n",
       "      <td>134</td>\n",
       "      <td>0.000002</td>\n",
       "      <td>Data</td>\n",
       "    </tr>\n",
       "  </tbody>\n",
       "</table>\n",
       "</div>"
      ],
      "text/plain": [
       "        Source_IP  Destination_IP  Source_Port  Destination_Port  Protocol  \\\n",
       "0  172.18.226.121  192.168.229.51      52255.0           10443.0       6.0   \n",
       "1  172.18.226.121  192.168.229.51      52255.0           10443.0       6.0   \n",
       "2  192.168.229.51  172.18.226.121       4500.0           64916.0      17.0   \n",
       "3  172.18.226.121  192.168.229.51      52255.0           10443.0       6.0   \n",
       "4  172.18.226.121  192.168.229.51      52255.0           10443.0       6.0   \n",
       "\n",
       "   Packet_Size Time_Delta Packet_Type  \n",
       "0           60       None     Control  \n",
       "1          124   0.000332        Data  \n",
       "2          146   0.000002     Control  \n",
       "3          124   0.000159        Data  \n",
       "4          134   0.000002        Data  "
      ]
     },
     "execution_count": 14,
     "metadata": {},
     "output_type": "execute_result"
    }
   ],
   "source": [
    "capture1_df.head()"
   ]
  },
  {
   "cell_type": "code",
   "execution_count": 15,
   "metadata": {},
   "outputs": [
    {
     "data": {
      "text/html": [
       "<div>\n",
       "<style scoped>\n",
       "    .dataframe tbody tr th:only-of-type {\n",
       "        vertical-align: middle;\n",
       "    }\n",
       "\n",
       "    .dataframe tbody tr th {\n",
       "        vertical-align: top;\n",
       "    }\n",
       "\n",
       "    .dataframe thead th {\n",
       "        text-align: right;\n",
       "    }\n",
       "</style>\n",
       "<table border=\"1\" class=\"dataframe\">\n",
       "  <thead>\n",
       "    <tr style=\"text-align: right;\">\n",
       "      <th></th>\n",
       "      <th>Source_IP</th>\n",
       "      <th>Destination_IP</th>\n",
       "      <th>Source_Port</th>\n",
       "      <th>Destination_Port</th>\n",
       "      <th>Protocol</th>\n",
       "      <th>Packet_Size</th>\n",
       "      <th>Time_Delta</th>\n",
       "      <th>Packet_Type</th>\n",
       "    </tr>\n",
       "  </thead>\n",
       "  <tbody>\n",
       "    <tr>\n",
       "      <th>0</th>\n",
       "      <td>172.20.1.154</td>\n",
       "      <td>239.255.255.250</td>\n",
       "      <td>54094.0</td>\n",
       "      <td>1900.0</td>\n",
       "      <td>17.0</td>\n",
       "      <td>216</td>\n",
       "      <td>None</td>\n",
       "      <td>Data</td>\n",
       "    </tr>\n",
       "    <tr>\n",
       "      <th>1</th>\n",
       "      <td>172.18.226.121</td>\n",
       "      <td>192.168.229.51</td>\n",
       "      <td>52255.0</td>\n",
       "      <td>10443.0</td>\n",
       "      <td>6.0</td>\n",
       "      <td>66</td>\n",
       "      <td>0.659880</td>\n",
       "      <td>Control</td>\n",
       "    </tr>\n",
       "    <tr>\n",
       "      <th>2</th>\n",
       "      <td>172.18.226.121</td>\n",
       "      <td>192.168.229.51</td>\n",
       "      <td>52255.0</td>\n",
       "      <td>10443.0</td>\n",
       "      <td>6.0</td>\n",
       "      <td>66</td>\n",
       "      <td>0.000000</td>\n",
       "      <td>Control</td>\n",
       "    </tr>\n",
       "    <tr>\n",
       "      <th>3</th>\n",
       "      <td>172.18.226.121</td>\n",
       "      <td>192.168.229.51</td>\n",
       "      <td>52255.0</td>\n",
       "      <td>10443.0</td>\n",
       "      <td>6.0</td>\n",
       "      <td>66</td>\n",
       "      <td>0.000000</td>\n",
       "      <td>Control</td>\n",
       "    </tr>\n",
       "    <tr>\n",
       "      <th>4</th>\n",
       "      <td>172.18.226.121</td>\n",
       "      <td>192.168.229.51</td>\n",
       "      <td>52255.0</td>\n",
       "      <td>10443.0</td>\n",
       "      <td>6.0</td>\n",
       "      <td>66</td>\n",
       "      <td>0.000819</td>\n",
       "      <td>Control</td>\n",
       "    </tr>\n",
       "  </tbody>\n",
       "</table>\n",
       "</div>"
      ],
      "text/plain": [
       "        Source_IP   Destination_IP  Source_Port  Destination_Port  Protocol  \\\n",
       "0    172.20.1.154  239.255.255.250      54094.0            1900.0      17.0   \n",
       "1  172.18.226.121   192.168.229.51      52255.0           10443.0       6.0   \n",
       "2  172.18.226.121   192.168.229.51      52255.0           10443.0       6.0   \n",
       "3  172.18.226.121   192.168.229.51      52255.0           10443.0       6.0   \n",
       "4  172.18.226.121   192.168.229.51      52255.0           10443.0       6.0   \n",
       "\n",
       "   Packet_Size Time_Delta Packet_Type  \n",
       "0          216       None        Data  \n",
       "1           66   0.659880     Control  \n",
       "2           66   0.000000     Control  \n",
       "3           66   0.000000     Control  \n",
       "4           66   0.000819     Control  "
      ]
     },
     "execution_count": 15,
     "metadata": {},
     "output_type": "execute_result"
    }
   ],
   "source": [
    "anomalies_capture1_df.head()"
   ]
  },
  {
   "cell_type": "code",
   "execution_count": 16,
   "metadata": {},
   "outputs": [
    {
     "name": "stderr",
     "output_type": "stream",
     "text": [
      "C:\\Users\\idris\\AppData\\Local\\Temp\\ipykernel_12040\\1376692372.py:2: FutureWarning: DataFrame.applymap has been deprecated. Use DataFrame.map instead.\n",
      "  capture1_ed_columns = capture1_df.applymap(lambda x: isinstance(x, decimal.Decimal)).any()\n",
      "C:\\Users\\idris\\AppData\\Local\\Temp\\ipykernel_12040\\1376692372.py:7: FutureWarning: DataFrame.applymap has been deprecated. Use DataFrame.map instead.\n",
      "  anomalies_ed_columns = anomalies_capture1_df.applymap(lambda x: isinstance(x, decimal.Decimal)).any()\n"
     ]
    }
   ],
   "source": [
    "# Convert all 'EDecimal' columns in capture1_df to float\n",
    "capture1_ed_columns = capture1_df.applymap(lambda x: isinstance(x, decimal.Decimal)).any()\n",
    "for col in capture1_df.columns[capture1_ed_columns]:\n",
    "    capture1_df[col] = capture1_df[col].apply(lambda x: float(x) if isinstance(x, decimal.Decimal) else x)\n",
    "\n",
    "# Convert all 'EDecimal' columns in anomalies_capture1_df to float\n",
    "anomalies_ed_columns = anomalies_capture1_df.applymap(lambda x: isinstance(x, decimal.Decimal)).any()\n",
    "for col in anomalies_capture1_df.columns[anomalies_ed_columns]:\n",
    "    anomalies_capture1_df[col] = anomalies_capture1_df[col].apply(lambda x: float(x) if isinstance(x, decimal.Decimal) else x)\n",
    "\n",
    "test_df = capture1_df.merge(anomalies_capture1_df,\n",
    "                              on=['Source_IP', 'Destination_IP', 'Source_Port', 'Destination_Port', 'Protocol', 'Packet_Size', 'Time_Delta', 'Packet_Type'],\n",
    "                              how='left',\n",
    "                              indicator=True)\n",
    "\n",
    "test_df['anomalie'] = test_df['_merge'].apply(lambda x: 1 if x == 'both' else 0)\n",
    "test_df = test_df.drop(columns='_merge')\n"
   ]
  },
  {
   "cell_type": "code",
   "execution_count": 17,
   "metadata": {},
   "outputs": [
    {
     "data": {
      "text/html": [
       "<div>\n",
       "<style scoped>\n",
       "    .dataframe tbody tr th:only-of-type {\n",
       "        vertical-align: middle;\n",
       "    }\n",
       "\n",
       "    .dataframe tbody tr th {\n",
       "        vertical-align: top;\n",
       "    }\n",
       "\n",
       "    .dataframe thead th {\n",
       "        text-align: right;\n",
       "    }\n",
       "</style>\n",
       "<table border=\"1\" class=\"dataframe\">\n",
       "  <thead>\n",
       "    <tr style=\"text-align: right;\">\n",
       "      <th></th>\n",
       "      <th>Source_IP</th>\n",
       "      <th>Destination_IP</th>\n",
       "      <th>Source_Port</th>\n",
       "      <th>Destination_Port</th>\n",
       "      <th>Protocol</th>\n",
       "      <th>Packet_Size</th>\n",
       "      <th>Time_Delta</th>\n",
       "      <th>Packet_Type</th>\n",
       "      <th>anomalie</th>\n",
       "    </tr>\n",
       "  </thead>\n",
       "  <tbody>\n",
       "    <tr>\n",
       "      <th>0</th>\n",
       "      <td>172.18.226.121</td>\n",
       "      <td>192.168.229.51</td>\n",
       "      <td>52255.0</td>\n",
       "      <td>10443.0</td>\n",
       "      <td>6.0</td>\n",
       "      <td>60</td>\n",
       "      <td>NaN</td>\n",
       "      <td>Control</td>\n",
       "      <td>0</td>\n",
       "    </tr>\n",
       "    <tr>\n",
       "      <th>1</th>\n",
       "      <td>172.18.226.121</td>\n",
       "      <td>192.168.229.51</td>\n",
       "      <td>52255.0</td>\n",
       "      <td>10443.0</td>\n",
       "      <td>6.0</td>\n",
       "      <td>124</td>\n",
       "      <td>0.000332</td>\n",
       "      <td>Data</td>\n",
       "      <td>0</td>\n",
       "    </tr>\n",
       "    <tr>\n",
       "      <th>2</th>\n",
       "      <td>192.168.229.51</td>\n",
       "      <td>172.18.226.121</td>\n",
       "      <td>4500.0</td>\n",
       "      <td>64916.0</td>\n",
       "      <td>17.0</td>\n",
       "      <td>146</td>\n",
       "      <td>0.000002</td>\n",
       "      <td>Control</td>\n",
       "      <td>1</td>\n",
       "    </tr>\n",
       "    <tr>\n",
       "      <th>3</th>\n",
       "      <td>172.18.226.121</td>\n",
       "      <td>192.168.229.51</td>\n",
       "      <td>52255.0</td>\n",
       "      <td>10443.0</td>\n",
       "      <td>6.0</td>\n",
       "      <td>124</td>\n",
       "      <td>0.000159</td>\n",
       "      <td>Data</td>\n",
       "      <td>0</td>\n",
       "    </tr>\n",
       "    <tr>\n",
       "      <th>4</th>\n",
       "      <td>172.18.226.121</td>\n",
       "      <td>192.168.229.51</td>\n",
       "      <td>52255.0</td>\n",
       "      <td>10443.0</td>\n",
       "      <td>6.0</td>\n",
       "      <td>134</td>\n",
       "      <td>0.000002</td>\n",
       "      <td>Data</td>\n",
       "      <td>0</td>\n",
       "    </tr>\n",
       "  </tbody>\n",
       "</table>\n",
       "</div>"
      ],
      "text/plain": [
       "        Source_IP  Destination_IP  Source_Port  Destination_Port  Protocol  \\\n",
       "0  172.18.226.121  192.168.229.51      52255.0           10443.0       6.0   \n",
       "1  172.18.226.121  192.168.229.51      52255.0           10443.0       6.0   \n",
       "2  192.168.229.51  172.18.226.121       4500.0           64916.0      17.0   \n",
       "3  172.18.226.121  192.168.229.51      52255.0           10443.0       6.0   \n",
       "4  172.18.226.121  192.168.229.51      52255.0           10443.0       6.0   \n",
       "\n",
       "   Packet_Size  Time_Delta Packet_Type  anomalie  \n",
       "0           60         NaN     Control         0  \n",
       "1          124    0.000332        Data         0  \n",
       "2          146    0.000002     Control         1  \n",
       "3          124    0.000159        Data         0  \n",
       "4          134    0.000002        Data         0  "
      ]
     },
     "execution_count": 17,
     "metadata": {},
     "output_type": "execute_result"
    }
   ],
   "source": [
    "test_df.head()"
   ]
  },
  {
   "cell_type": "code",
   "execution_count": 29,
   "metadata": {},
   "outputs": [
    {
     "data": {
      "text/plain": [
       "(321270, 9)"
      ]
     },
     "execution_count": 29,
     "metadata": {},
     "output_type": "execute_result"
    }
   ],
   "source": [
    "test_df.shape"
   ]
  },
  {
   "cell_type": "code",
   "execution_count": 18,
   "metadata": {},
   "outputs": [
    {
     "data": {
      "text/plain": [
       "anomalie\n",
       "1    241166\n",
       "0     80104\n",
       "Name: count, dtype: int64"
      ]
     },
     "execution_count": 18,
     "metadata": {},
     "output_type": "execute_result"
    }
   ],
   "source": [
    "test_df['anomalie'].value_counts()"
   ]
  },
  {
   "cell_type": "code",
   "execution_count": 28,
   "metadata": {},
   "outputs": [
    {
     "name": "stdout",
     "output_type": "stream",
     "text": [
      "Number of duplicate rows: 299814\n"
     ]
    }
   ],
   "source": [
    "# Count the number of duplicate rows\n",
    "num_duplicates = test_df.duplicated().sum()\n",
    "\n",
    "print(\"Number of duplicate rows:\", num_duplicates)\n"
   ]
  },
  {
   "cell_type": "code",
   "execution_count": 19,
   "metadata": {},
   "outputs": [
    {
     "name": "stderr",
     "output_type": "stream",
     "text": [
      "C:\\Users\\idris\\AppData\\Local\\Temp\\ipykernel_12040\\2563157806.py:2: FutureWarning: DataFrame.applymap has been deprecated. Use DataFrame.map instead.\n",
      "  capture2_ed_columns = capture2_df.applymap(lambda x: isinstance(x, decimal.Decimal)).any()\n"
     ]
    },
    {
     "name": "stderr",
     "output_type": "stream",
     "text": [
      "C:\\Users\\idris\\AppData\\Local\\Temp\\ipykernel_12040\\2563157806.py:7: FutureWarning: DataFrame.applymap has been deprecated. Use DataFrame.map instead.\n",
      "  anomalies_ed_columns = anomalies_capture2_df.applymap(lambda x: isinstance(x, decimal.Decimal)).any()\n"
     ]
    }
   ],
   "source": [
    "# Convert all 'EDecimal' columns in capture1_df to float\n",
    "capture2_ed_columns = capture2_df.applymap(lambda x: isinstance(x, decimal.Decimal)).any()\n",
    "for col in capture2_df.columns[capture2_ed_columns]:\n",
    "    capture2_df[col] = capture2_df[col].apply(lambda x: float(x) if isinstance(x, decimal.Decimal) else x)\n",
    "\n",
    "# Convert all 'EDecimal' columns in anomalies_capture1_df to float\n",
    "anomalies_ed_columns = anomalies_capture2_df.applymap(lambda x: isinstance(x, decimal.Decimal)).any()\n",
    "for col in anomalies_capture2_df.columns[anomalies_ed_columns]:\n",
    "    anomalies_capture2_df[col] = anomalies_capture2_df[col].apply(lambda x: float(x) if isinstance(x, decimal.Decimal) else x)\n",
    "\n",
    "\n",
    "train_df = capture2_df.merge(anomalies_capture2_df,\n",
    "                              on=['Source_IP', 'Destination_IP', 'Source_Port', 'Destination_Port', 'Protocol', 'Packet_Size', 'Time_Delta', 'Packet_Type'],\n",
    "                              how='left',\n",
    "                              indicator=True)\n",
    "\n",
    "train_df['anomalie'] = train_df['_merge'].apply(lambda x: 1 if x == 'both' else 0)\n",
    "train_df = train_df.drop(columns='_merge')\n",
    "\n"
   ]
  },
  {
   "cell_type": "code",
   "execution_count": 20,
   "metadata": {},
   "outputs": [
    {
     "data": {
      "text/plain": [
       "anomalie\n",
       "1    494064\n",
       "0    287463\n",
       "Name: count, dtype: int64"
      ]
     },
     "execution_count": 20,
     "metadata": {},
     "output_type": "execute_result"
    }
   ],
   "source": [
    "train_df['anomalie'].value_counts()"
   ]
  },
  {
   "cell_type": "code",
   "execution_count": 32,
   "metadata": {},
   "outputs": [
    {
     "data": {
      "text/html": [
       "<div>\n",
       "<style scoped>\n",
       "    .dataframe tbody tr th:only-of-type {\n",
       "        vertical-align: middle;\n",
       "    }\n",
       "\n",
       "    .dataframe tbody tr th {\n",
       "        vertical-align: top;\n",
       "    }\n",
       "\n",
       "    .dataframe thead th {\n",
       "        text-align: right;\n",
       "    }\n",
       "</style>\n",
       "<table border=\"1\" class=\"dataframe\">\n",
       "  <thead>\n",
       "    <tr style=\"text-align: right;\">\n",
       "      <th></th>\n",
       "      <th>Source_IP</th>\n",
       "      <th>Destination_IP</th>\n",
       "      <th>Source_Port</th>\n",
       "      <th>Destination_Port</th>\n",
       "      <th>Protocol</th>\n",
       "      <th>Packet_Size</th>\n",
       "      <th>Time_Delta</th>\n",
       "      <th>Packet_Type</th>\n",
       "      <th>anomalie</th>\n",
       "    </tr>\n",
       "  </thead>\n",
       "  <tbody>\n",
       "    <tr>\n",
       "      <th>0</th>\n",
       "      <td>40.115.19.176</td>\n",
       "      <td>10.200.0.130</td>\n",
       "      <td>443.0</td>\n",
       "      <td>53841.0</td>\n",
       "      <td>6.0</td>\n",
       "      <td>60</td>\n",
       "      <td>NaN</td>\n",
       "      <td>Control</td>\n",
       "      <td>0</td>\n",
       "    </tr>\n",
       "    <tr>\n",
       "      <th>1</th>\n",
       "      <td>40.115.19.176</td>\n",
       "      <td>10.200.0.130</td>\n",
       "      <td>443.0</td>\n",
       "      <td>53841.0</td>\n",
       "      <td>6.0</td>\n",
       "      <td>60</td>\n",
       "      <td>0.000004</td>\n",
       "      <td>Control</td>\n",
       "      <td>0</td>\n",
       "    </tr>\n",
       "    <tr>\n",
       "      <th>2</th>\n",
       "      <td>10.200.0.130</td>\n",
       "      <td>40.115.19.176</td>\n",
       "      <td>53841.0</td>\n",
       "      <td>443.0</td>\n",
       "      <td>6.0</td>\n",
       "      <td>60</td>\n",
       "      <td>0.000001</td>\n",
       "      <td>Control</td>\n",
       "      <td>0</td>\n",
       "    </tr>\n",
       "    <tr>\n",
       "      <th>3</th>\n",
       "      <td>5.249.120.14</td>\n",
       "      <td>10.200.0.130</td>\n",
       "      <td>10650.0</td>\n",
       "      <td>4500.0</td>\n",
       "      <td>17.0</td>\n",
       "      <td>166</td>\n",
       "      <td>0.000001</td>\n",
       "      <td>Control</td>\n",
       "      <td>1</td>\n",
       "    </tr>\n",
       "    <tr>\n",
       "      <th>4</th>\n",
       "      <td>5.249.120.14</td>\n",
       "      <td>10.200.0.130</td>\n",
       "      <td>10650.0</td>\n",
       "      <td>4500.0</td>\n",
       "      <td>17.0</td>\n",
       "      <td>166</td>\n",
       "      <td>0.000001</td>\n",
       "      <td>Control</td>\n",
       "      <td>1</td>\n",
       "    </tr>\n",
       "  </tbody>\n",
       "</table>\n",
       "</div>"
      ],
      "text/plain": [
       "       Source_IP Destination_IP  Source_Port  Destination_Port  Protocol  \\\n",
       "0  40.115.19.176   10.200.0.130        443.0           53841.0       6.0   \n",
       "1  40.115.19.176   10.200.0.130        443.0           53841.0       6.0   \n",
       "2   10.200.0.130  40.115.19.176      53841.0             443.0       6.0   \n",
       "3   5.249.120.14   10.200.0.130      10650.0            4500.0      17.0   \n",
       "4   5.249.120.14   10.200.0.130      10650.0            4500.0      17.0   \n",
       "\n",
       "   Packet_Size  Time_Delta Packet_Type  anomalie  \n",
       "0           60         NaN     Control         0  \n",
       "1           60    0.000004     Control         0  \n",
       "2           60    0.000001     Control         0  \n",
       "3          166    0.000001     Control         1  \n",
       "4          166    0.000001     Control         1  "
      ]
     },
     "execution_count": 32,
     "metadata": {},
     "output_type": "execute_result"
    }
   ],
   "source": [
    "train_df.head()"
   ]
  },
  {
   "cell_type": "markdown",
   "metadata": {},
   "source": [
    "### information de session"
   ]
  },
  {
   "cell_type": "code",
   "execution_count": 33,
   "metadata": {},
   "outputs": [],
   "source": [
    "def analyze_session(packet_df):\n",
    "    # Group packets by session\n",
    "    session_info = {}\n",
    "    sessions = packet_df.groupby(['Source_IP', 'Destination_IP', 'Source_Port', 'Destination_Port', 'Protocol'])\n",
    "    \n",
    "    # Iterate over each session\n",
    "    for session, packets in sessions:\n",
    "        # Check if any packet in the session has anomalie equal to 1\n",
    "        if any(packets['anomalie'] == 1):\n",
    "            session_anomalie = 1\n",
    "        else:\n",
    "            session_anomalie = 0\n",
    "        \n",
    "        # Calculate session metrics\n",
    "        packet_count = len(packets)\n",
    "        avg_packet_size = packets['Packet_Size'].mean()\n",
    "        avg_time_delta = packets['Time_Delta'].mean()\n",
    "        \n",
    "        # Extract additional session features\n",
    "        min_packet_size = packets['Packet_Size'].min()\n",
    "        max_packet_size = packets['Packet_Size'].max()\n",
    "        total_bytes = packets['Packet_Size'].sum()\n",
    "        unique_source_ips = packets['Source_IP'].nunique()\n",
    "        unique_destination_ips = packets['Destination_IP'].nunique()\n",
    "        unique_source_ports = packets['Source_Port'].nunique()\n",
    "        unique_destination_ports = packets['Destination_Port'].nunique()\n",
    "        most_common_protocol = packets['Protocol'].mode()[0]\n",
    "        \n",
    "        # Store session information\n",
    "        session_info[session] = {\n",
    "            'packet_count': packet_count,\n",
    "            'average_packet_size': avg_packet_size,\n",
    "            'average_time_delta': avg_time_delta,\n",
    "            'min_packet_size': min_packet_size,\n",
    "            'max_packet_size': max_packet_size,\n",
    "            'total_bytes': total_bytes,\n",
    "            'unique_source_ips': unique_source_ips,\n",
    "            'unique_destination_ips': unique_destination_ips,\n",
    "            'unique_source_ports': unique_source_ports,\n",
    "            'unique_destination_ports': unique_destination_ports,\n",
    "            'most_common_protocol': most_common_protocol,\n",
    "            'anomalie': session_anomalie  # Add anomalie column for the session\n",
    "        }\n",
    "    \n",
    "    return session_info\n"
   ]
  },
  {
   "cell_type": "code",
   "execution_count": 36,
   "metadata": {},
   "outputs": [],
   "source": [
    "# Analyze the pcapng file and get session information\n",
    "capture1_session_info = analyze_session(test_df)"
   ]
  },
  {
   "cell_type": "code",
   "execution_count": 37,
   "metadata": {},
   "outputs": [
    {
     "data": {
      "text/html": [
       "<div>\n",
       "<style scoped>\n",
       "    .dataframe tbody tr th:only-of-type {\n",
       "        vertical-align: middle;\n",
       "    }\n",
       "\n",
       "    .dataframe tbody tr th {\n",
       "        vertical-align: top;\n",
       "    }\n",
       "\n",
       "    .dataframe thead th {\n",
       "        text-align: right;\n",
       "    }\n",
       "</style>\n",
       "<table border=\"1\" class=\"dataframe\">\n",
       "  <thead>\n",
       "    <tr style=\"text-align: right;\">\n",
       "      <th></th>\n",
       "      <th></th>\n",
       "      <th></th>\n",
       "      <th></th>\n",
       "      <th></th>\n",
       "      <th>packet_count</th>\n",
       "      <th>average_packet_size</th>\n",
       "      <th>average_time_delta</th>\n",
       "      <th>min_packet_size</th>\n",
       "      <th>max_packet_size</th>\n",
       "      <th>total_bytes</th>\n",
       "      <th>unique_source_ips</th>\n",
       "      <th>unique_destination_ips</th>\n",
       "      <th>unique_source_ports</th>\n",
       "      <th>unique_destination_ports</th>\n",
       "      <th>most_common_protocol</th>\n",
       "      <th>anomalie</th>\n",
       "    </tr>\n",
       "  </thead>\n",
       "  <tbody>\n",
       "    <tr>\n",
       "      <th>104.208.16.88</th>\n",
       "      <th>192.168.229.51</th>\n",
       "      <th>443.0</th>\n",
       "      <th>64166.0</th>\n",
       "      <th>6.0</th>\n",
       "      <td>1</td>\n",
       "      <td>60.0</td>\n",
       "      <td>0.000002</td>\n",
       "      <td>60</td>\n",
       "      <td>60</td>\n",
       "      <td>60</td>\n",
       "      <td>1</td>\n",
       "      <td>1</td>\n",
       "      <td>1</td>\n",
       "      <td>1</td>\n",
       "      <td>6.0</td>\n",
       "      <td>0</td>\n",
       "    </tr>\n",
       "    <tr>\n",
       "      <th>13.107.136.254</th>\n",
       "      <th>192.168.229.51</th>\n",
       "      <th>443.0</th>\n",
       "      <th>57691.0</th>\n",
       "      <th>6.0</th>\n",
       "      <td>1</td>\n",
       "      <td>60.0</td>\n",
       "      <td>0.003188</td>\n",
       "      <td>60</td>\n",
       "      <td>60</td>\n",
       "      <td>60</td>\n",
       "      <td>1</td>\n",
       "      <td>1</td>\n",
       "      <td>1</td>\n",
       "      <td>1</td>\n",
       "      <td>6.0</td>\n",
       "      <td>0</td>\n",
       "    </tr>\n",
       "    <tr>\n",
       "      <th>13.107.43.254</th>\n",
       "      <th>192.168.229.51</th>\n",
       "      <th>443.0</th>\n",
       "      <th>57692.0</th>\n",
       "      <th>6.0</th>\n",
       "      <td>1</td>\n",
       "      <td>60.0</td>\n",
       "      <td>0.004299</td>\n",
       "      <td>60</td>\n",
       "      <td>60</td>\n",
       "      <td>60</td>\n",
       "      <td>1</td>\n",
       "      <td>1</td>\n",
       "      <td>1</td>\n",
       "      <td>1</td>\n",
       "      <td>6.0</td>\n",
       "      <td>0</td>\n",
       "    </tr>\n",
       "    <tr>\n",
       "      <th>13.107.6.160</th>\n",
       "      <th>192.168.229.51</th>\n",
       "      <th>443.0</th>\n",
       "      <th>59984.0</th>\n",
       "      <th>6.0</th>\n",
       "      <td>100</td>\n",
       "      <td>230.5</td>\n",
       "      <td>0.001376</td>\n",
       "      <td>60</td>\n",
       "      <td>1406</td>\n",
       "      <td>23050</td>\n",
       "      <td>1</td>\n",
       "      <td>1</td>\n",
       "      <td>1</td>\n",
       "      <td>1</td>\n",
       "      <td>6.0</td>\n",
       "      <td>0</td>\n",
       "    </tr>\n",
       "    <tr>\n",
       "      <th>13.224.111.111</th>\n",
       "      <th>192.168.229.51</th>\n",
       "      <th>443.0</th>\n",
       "      <th>56628.0</th>\n",
       "      <th>6.0</th>\n",
       "      <td>10</td>\n",
       "      <td>87.6</td>\n",
       "      <td>0.003136</td>\n",
       "      <td>66</td>\n",
       "      <td>90</td>\n",
       "      <td>876</td>\n",
       "      <td>1</td>\n",
       "      <td>1</td>\n",
       "      <td>1</td>\n",
       "      <td>1</td>\n",
       "      <td>6.0</td>\n",
       "      <td>0</td>\n",
       "    </tr>\n",
       "  </tbody>\n",
       "</table>\n",
       "</div>"
      ],
      "text/plain": [
       "                                                 packet_count  \\\n",
       "104.208.16.88  192.168.229.51 443.0 64166.0 6.0             1   \n",
       "13.107.136.254 192.168.229.51 443.0 57691.0 6.0             1   \n",
       "13.107.43.254  192.168.229.51 443.0 57692.0 6.0             1   \n",
       "13.107.6.160   192.168.229.51 443.0 59984.0 6.0           100   \n",
       "13.224.111.111 192.168.229.51 443.0 56628.0 6.0            10   \n",
       "\n",
       "                                                 average_packet_size  \\\n",
       "104.208.16.88  192.168.229.51 443.0 64166.0 6.0                 60.0   \n",
       "13.107.136.254 192.168.229.51 443.0 57691.0 6.0                 60.0   \n",
       "13.107.43.254  192.168.229.51 443.0 57692.0 6.0                 60.0   \n",
       "13.107.6.160   192.168.229.51 443.0 59984.0 6.0                230.5   \n",
       "13.224.111.111 192.168.229.51 443.0 56628.0 6.0                 87.6   \n",
       "\n",
       "                                                 average_time_delta  \\\n",
       "104.208.16.88  192.168.229.51 443.0 64166.0 6.0            0.000002   \n",
       "13.107.136.254 192.168.229.51 443.0 57691.0 6.0            0.003188   \n",
       "13.107.43.254  192.168.229.51 443.0 57692.0 6.0            0.004299   \n",
       "13.107.6.160   192.168.229.51 443.0 59984.0 6.0            0.001376   \n",
       "13.224.111.111 192.168.229.51 443.0 56628.0 6.0            0.003136   \n",
       "\n",
       "                                                 min_packet_size  \\\n",
       "104.208.16.88  192.168.229.51 443.0 64166.0 6.0               60   \n",
       "13.107.136.254 192.168.229.51 443.0 57691.0 6.0               60   \n",
       "13.107.43.254  192.168.229.51 443.0 57692.0 6.0               60   \n",
       "13.107.6.160   192.168.229.51 443.0 59984.0 6.0               60   \n",
       "13.224.111.111 192.168.229.51 443.0 56628.0 6.0               66   \n",
       "\n",
       "                                                 max_packet_size  total_bytes  \\\n",
       "104.208.16.88  192.168.229.51 443.0 64166.0 6.0               60           60   \n",
       "13.107.136.254 192.168.229.51 443.0 57691.0 6.0               60           60   \n",
       "13.107.43.254  192.168.229.51 443.0 57692.0 6.0               60           60   \n",
       "13.107.6.160   192.168.229.51 443.0 59984.0 6.0             1406        23050   \n",
       "13.224.111.111 192.168.229.51 443.0 56628.0 6.0               90          876   \n",
       "\n",
       "                                                 unique_source_ips  \\\n",
       "104.208.16.88  192.168.229.51 443.0 64166.0 6.0                  1   \n",
       "13.107.136.254 192.168.229.51 443.0 57691.0 6.0                  1   \n",
       "13.107.43.254  192.168.229.51 443.0 57692.0 6.0                  1   \n",
       "13.107.6.160   192.168.229.51 443.0 59984.0 6.0                  1   \n",
       "13.224.111.111 192.168.229.51 443.0 56628.0 6.0                  1   \n",
       "\n",
       "                                                 unique_destination_ips  \\\n",
       "104.208.16.88  192.168.229.51 443.0 64166.0 6.0                       1   \n",
       "13.107.136.254 192.168.229.51 443.0 57691.0 6.0                       1   \n",
       "13.107.43.254  192.168.229.51 443.0 57692.0 6.0                       1   \n",
       "13.107.6.160   192.168.229.51 443.0 59984.0 6.0                       1   \n",
       "13.224.111.111 192.168.229.51 443.0 56628.0 6.0                       1   \n",
       "\n",
       "                                                 unique_source_ports  \\\n",
       "104.208.16.88  192.168.229.51 443.0 64166.0 6.0                    1   \n",
       "13.107.136.254 192.168.229.51 443.0 57691.0 6.0                    1   \n",
       "13.107.43.254  192.168.229.51 443.0 57692.0 6.0                    1   \n",
       "13.107.6.160   192.168.229.51 443.0 59984.0 6.0                    1   \n",
       "13.224.111.111 192.168.229.51 443.0 56628.0 6.0                    1   \n",
       "\n",
       "                                                 unique_destination_ports  \\\n",
       "104.208.16.88  192.168.229.51 443.0 64166.0 6.0                         1   \n",
       "13.107.136.254 192.168.229.51 443.0 57691.0 6.0                         1   \n",
       "13.107.43.254  192.168.229.51 443.0 57692.0 6.0                         1   \n",
       "13.107.6.160   192.168.229.51 443.0 59984.0 6.0                         1   \n",
       "13.224.111.111 192.168.229.51 443.0 56628.0 6.0                         1   \n",
       "\n",
       "                                                 most_common_protocol  \\\n",
       "104.208.16.88  192.168.229.51 443.0 64166.0 6.0                   6.0   \n",
       "13.107.136.254 192.168.229.51 443.0 57691.0 6.0                   6.0   \n",
       "13.107.43.254  192.168.229.51 443.0 57692.0 6.0                   6.0   \n",
       "13.107.6.160   192.168.229.51 443.0 59984.0 6.0                   6.0   \n",
       "13.224.111.111 192.168.229.51 443.0 56628.0 6.0                   6.0   \n",
       "\n",
       "                                                 anomalie  \n",
       "104.208.16.88  192.168.229.51 443.0 64166.0 6.0         0  \n",
       "13.107.136.254 192.168.229.51 443.0 57691.0 6.0         0  \n",
       "13.107.43.254  192.168.229.51 443.0 57692.0 6.0         0  \n",
       "13.107.6.160   192.168.229.51 443.0 59984.0 6.0         0  \n",
       "13.224.111.111 192.168.229.51 443.0 56628.0 6.0         0  "
      ]
     },
     "execution_count": 37,
     "metadata": {},
     "output_type": "execute_result"
    }
   ],
   "source": [
    "capture1_session_info_df = pd.DataFrame.from_dict(capture1_session_info, orient='index')\n",
    "capture1_session_info_df.head()"
   ]
  },
  {
   "cell_type": "code",
   "execution_count": 38,
   "metadata": {},
   "outputs": [
    {
     "data": {
      "text/plain": [
       "anomalie\n",
       "0    536\n",
       "1     19\n",
       "Name: count, dtype: int64"
      ]
     },
     "execution_count": 38,
     "metadata": {},
     "output_type": "execute_result"
    }
   ],
   "source": [
    "capture1_session_info_df['anomalie'].value_counts()"
   ]
  },
  {
   "cell_type": "code",
   "execution_count": 39,
   "metadata": {},
   "outputs": [],
   "source": [
    "capture2_session_info = analyze_session(train_df)"
   ]
  },
  {
   "cell_type": "code",
   "execution_count": 40,
   "metadata": {},
   "outputs": [
    {
     "data": {
      "text/html": [
       "<div>\n",
       "<style scoped>\n",
       "    .dataframe tbody tr th:only-of-type {\n",
       "        vertical-align: middle;\n",
       "    }\n",
       "\n",
       "    .dataframe tbody tr th {\n",
       "        vertical-align: top;\n",
       "    }\n",
       "\n",
       "    .dataframe thead th {\n",
       "        text-align: right;\n",
       "    }\n",
       "</style>\n",
       "<table border=\"1\" class=\"dataframe\">\n",
       "  <thead>\n",
       "    <tr style=\"text-align: right;\">\n",
       "      <th></th>\n",
       "      <th></th>\n",
       "      <th></th>\n",
       "      <th></th>\n",
       "      <th></th>\n",
       "      <th>packet_count</th>\n",
       "      <th>average_packet_size</th>\n",
       "      <th>average_time_delta</th>\n",
       "      <th>min_packet_size</th>\n",
       "      <th>max_packet_size</th>\n",
       "      <th>total_bytes</th>\n",
       "      <th>unique_source_ips</th>\n",
       "      <th>unique_destination_ips</th>\n",
       "      <th>unique_source_ports</th>\n",
       "      <th>unique_destination_ports</th>\n",
       "      <th>most_common_protocol</th>\n",
       "      <th>anomalie</th>\n",
       "    </tr>\n",
       "  </thead>\n",
       "  <tbody>\n",
       "    <tr>\n",
       "      <th>0.0.0.0</th>\n",
       "      <th>255.255.255.255</th>\n",
       "      <th>68.0</th>\n",
       "      <th>67.0</th>\n",
       "      <th>17.0</th>\n",
       "      <td>6</td>\n",
       "      <td>342.000000</td>\n",
       "      <td>0.000957</td>\n",
       "      <td>342</td>\n",
       "      <td>342</td>\n",
       "      <td>2052</td>\n",
       "      <td>1</td>\n",
       "      <td>1</td>\n",
       "      <td>1</td>\n",
       "      <td>1</td>\n",
       "      <td>17.0</td>\n",
       "      <td>0</td>\n",
       "    </tr>\n",
       "    <tr>\n",
       "      <th rowspan=\"4\" valign=\"top\">10.200.0.130</th>\n",
       "      <th>105.159.18.7</th>\n",
       "      <th>4500.0</th>\n",
       "      <th>4500.0</th>\n",
       "      <th>17.0</th>\n",
       "      <td>205</td>\n",
       "      <td>144.341463</td>\n",
       "      <td>0.000330</td>\n",
       "      <td>102</td>\n",
       "      <td>290</td>\n",
       "      <td>29590</td>\n",
       "      <td>1</td>\n",
       "      <td>1</td>\n",
       "      <td>1</td>\n",
       "      <td>1</td>\n",
       "      <td>17.0</td>\n",
       "      <td>0</td>\n",
       "    </tr>\n",
       "    <tr>\n",
       "      <th>119.39.240.90</th>\n",
       "      <th>4500.0</th>\n",
       "      <th>50293.0</th>\n",
       "      <th>17.0</th>\n",
       "      <td>172</td>\n",
       "      <td>124.232558</td>\n",
       "      <td>0.000304</td>\n",
       "      <td>106</td>\n",
       "      <td>158</td>\n",
       "      <td>21368</td>\n",
       "      <td>1</td>\n",
       "      <td>1</td>\n",
       "      <td>1</td>\n",
       "      <td>1</td>\n",
       "      <td>17.0</td>\n",
       "      <td>0</td>\n",
       "    </tr>\n",
       "    <tr>\n",
       "      <th rowspan=\"2\" valign=\"top\">128.92.92.124</th>\n",
       "      <th rowspan=\"2\" valign=\"top\">4500.0</th>\n",
       "      <th>27012.0</th>\n",
       "      <th>17.0</th>\n",
       "      <td>225</td>\n",
       "      <td>138.124444</td>\n",
       "      <td>0.000243</td>\n",
       "      <td>98</td>\n",
       "      <td>270</td>\n",
       "      <td>31078</td>\n",
       "      <td>1</td>\n",
       "      <td>1</td>\n",
       "      <td>1</td>\n",
       "      <td>1</td>\n",
       "      <td>17.0</td>\n",
       "      <td>0</td>\n",
       "    </tr>\n",
       "    <tr>\n",
       "      <th>39024.0</th>\n",
       "      <th>17.0</th>\n",
       "      <td>123</td>\n",
       "      <td>125.869919</td>\n",
       "      <td>0.000213</td>\n",
       "      <td>118</td>\n",
       "      <td>158</td>\n",
       "      <td>15482</td>\n",
       "      <td>1</td>\n",
       "      <td>1</td>\n",
       "      <td>1</td>\n",
       "      <td>1</td>\n",
       "      <td>17.0</td>\n",
       "      <td>0</td>\n",
       "    </tr>\n",
       "  </tbody>\n",
       "</table>\n",
       "</div>"
      ],
      "text/plain": [
       "                                                  packet_count  \\\n",
       "0.0.0.0      255.255.255.255 68.0   67.0    17.0             6   \n",
       "10.200.0.130 105.159.18.7    4500.0 4500.0  17.0           205   \n",
       "             119.39.240.90   4500.0 50293.0 17.0           172   \n",
       "             128.92.92.124   4500.0 27012.0 17.0           225   \n",
       "                                    39024.0 17.0           123   \n",
       "\n",
       "                                                  average_packet_size  \\\n",
       "0.0.0.0      255.255.255.255 68.0   67.0    17.0           342.000000   \n",
       "10.200.0.130 105.159.18.7    4500.0 4500.0  17.0           144.341463   \n",
       "             119.39.240.90   4500.0 50293.0 17.0           124.232558   \n",
       "             128.92.92.124   4500.0 27012.0 17.0           138.124444   \n",
       "                                    39024.0 17.0           125.869919   \n",
       "\n",
       "                                                  average_time_delta  \\\n",
       "0.0.0.0      255.255.255.255 68.0   67.0    17.0            0.000957   \n",
       "10.200.0.130 105.159.18.7    4500.0 4500.0  17.0            0.000330   \n",
       "             119.39.240.90   4500.0 50293.0 17.0            0.000304   \n",
       "             128.92.92.124   4500.0 27012.0 17.0            0.000243   \n",
       "                                    39024.0 17.0            0.000213   \n",
       "\n",
       "                                                  min_packet_size  \\\n",
       "0.0.0.0      255.255.255.255 68.0   67.0    17.0              342   \n",
       "10.200.0.130 105.159.18.7    4500.0 4500.0  17.0              102   \n",
       "             119.39.240.90   4500.0 50293.0 17.0              106   \n",
       "             128.92.92.124   4500.0 27012.0 17.0               98   \n",
       "                                    39024.0 17.0              118   \n",
       "\n",
       "                                                  max_packet_size  \\\n",
       "0.0.0.0      255.255.255.255 68.0   67.0    17.0              342   \n",
       "10.200.0.130 105.159.18.7    4500.0 4500.0  17.0              290   \n",
       "             119.39.240.90   4500.0 50293.0 17.0              158   \n",
       "             128.92.92.124   4500.0 27012.0 17.0              270   \n",
       "                                    39024.0 17.0              158   \n",
       "\n",
       "                                                  total_bytes  \\\n",
       "0.0.0.0      255.255.255.255 68.0   67.0    17.0         2052   \n",
       "10.200.0.130 105.159.18.7    4500.0 4500.0  17.0        29590   \n",
       "             119.39.240.90   4500.0 50293.0 17.0        21368   \n",
       "             128.92.92.124   4500.0 27012.0 17.0        31078   \n",
       "                                    39024.0 17.0        15482   \n",
       "\n",
       "                                                  unique_source_ips  \\\n",
       "0.0.0.0      255.255.255.255 68.0   67.0    17.0                  1   \n",
       "10.200.0.130 105.159.18.7    4500.0 4500.0  17.0                  1   \n",
       "             119.39.240.90   4500.0 50293.0 17.0                  1   \n",
       "             128.92.92.124   4500.0 27012.0 17.0                  1   \n",
       "                                    39024.0 17.0                  1   \n",
       "\n",
       "                                                  unique_destination_ips  \\\n",
       "0.0.0.0      255.255.255.255 68.0   67.0    17.0                       1   \n",
       "10.200.0.130 105.159.18.7    4500.0 4500.0  17.0                       1   \n",
       "             119.39.240.90   4500.0 50293.0 17.0                       1   \n",
       "             128.92.92.124   4500.0 27012.0 17.0                       1   \n",
       "                                    39024.0 17.0                       1   \n",
       "\n",
       "                                                  unique_source_ports  \\\n",
       "0.0.0.0      255.255.255.255 68.0   67.0    17.0                    1   \n",
       "10.200.0.130 105.159.18.7    4500.0 4500.0  17.0                    1   \n",
       "             119.39.240.90   4500.0 50293.0 17.0                    1   \n",
       "             128.92.92.124   4500.0 27012.0 17.0                    1   \n",
       "                                    39024.0 17.0                    1   \n",
       "\n",
       "                                                  unique_destination_ports  \\\n",
       "0.0.0.0      255.255.255.255 68.0   67.0    17.0                         1   \n",
       "10.200.0.130 105.159.18.7    4500.0 4500.0  17.0                         1   \n",
       "             119.39.240.90   4500.0 50293.0 17.0                         1   \n",
       "             128.92.92.124   4500.0 27012.0 17.0                         1   \n",
       "                                    39024.0 17.0                         1   \n",
       "\n",
       "                                                  most_common_protocol  \\\n",
       "0.0.0.0      255.255.255.255 68.0   67.0    17.0                  17.0   \n",
       "10.200.0.130 105.159.18.7    4500.0 4500.0  17.0                  17.0   \n",
       "             119.39.240.90   4500.0 50293.0 17.0                  17.0   \n",
       "             128.92.92.124   4500.0 27012.0 17.0                  17.0   \n",
       "                                    39024.0 17.0                  17.0   \n",
       "\n",
       "                                                  anomalie  \n",
       "0.0.0.0      255.255.255.255 68.0   67.0    17.0         0  \n",
       "10.200.0.130 105.159.18.7    4500.0 4500.0  17.0         0  \n",
       "             119.39.240.90   4500.0 50293.0 17.0         0  \n",
       "             128.92.92.124   4500.0 27012.0 17.0         0  \n",
       "                                    39024.0 17.0         0  "
      ]
     },
     "execution_count": 40,
     "metadata": {},
     "output_type": "execute_result"
    }
   ],
   "source": [
    "capture2_session_info_df = pd.DataFrame.from_dict(capture2_session_info, orient='index')\n",
    "capture2_session_info_df.head()"
   ]
  },
  {
   "cell_type": "code",
   "execution_count": 42,
   "metadata": {},
   "outputs": [
    {
     "data": {
      "text/plain": [
       "anomalie\n",
       "0    521\n",
       "1     76\n",
       "Name: count, dtype: int64"
      ]
     },
     "execution_count": 42,
     "metadata": {},
     "output_type": "execute_result"
    }
   ],
   "source": [
    "capture2_session_info_df['anomalie'].value_counts()"
   ]
  },
  {
   "cell_type": "code",
   "execution_count": 43,
   "metadata": {},
   "outputs": [],
   "source": [
    "test = capture1_session_info_df\n",
    "train = capture2_session_info_df"
   ]
  },
  {
   "cell_type": "markdown",
   "metadata": {},
   "source": [
    "# Clustering"
   ]
  },
  {
   "cell_type": "markdown",
   "metadata": {},
   "source": [
    "## packets"
   ]
  },
  {
   "cell_type": "code",
   "execution_count": null,
   "metadata": {},
   "outputs": [],
   "source": [
    "from sklearn.cluster import KMeans\n",
    "import matplotlib.pyplot as plt\n",
    "\n",
    "def cluster_and_visualize(packet_df, features, n_clusters=3):\n",
    "    # Prepare data\n",
    "    X = packet_df[features]\n",
    "\n",
    "    # Apply K-means clustering\n",
    "    kmeans = KMeans(n_clusters=n_clusters, random_state=42)\n",
    "    packet_df['Cluster'] = kmeans.fit_predict(X)\n",
    "\n",
    "    # Visualize clusters\n",
    "    plt.figure(figsize=(10, 6))\n",
    "    for cluster in range(n_clusters):\n",
    "        cluster_data = packet_df[packet_df['Cluster'] == cluster]\n",
    "        plt.scatter(cluster_data[features[0]], cluster_data[features[1]], label=f'Cluster {cluster}')\n",
    "    plt.xlabel(features[0])\n",
    "    plt.ylabel(features[1])\n",
    "    plt.title('Clustering of Network Traffic')\n",
    "    plt.legend()\n",
    "    plt.grid(True)\n",
    "    plt.show()\n"
   ]
  },
  {
   "cell_type": "code",
   "execution_count": null,
   "metadata": {},
   "outputs": [],
   "source": [
    "capture1_df.dropna(inplace=True)\n",
    "capture2_df.dropna(inplace=True)\n"
   ]
  },
  {
   "cell_type": "markdown",
   "metadata": {},
   "source": [
    "### capture 1"
   ]
  },
  {
   "cell_type": "code",
   "execution_count": null,
   "metadata": {},
   "outputs": [
    {
     "data": {
      "image/png": "[encoded data removed]",
      "text/plain": [
       "<Figure size 1000x600 with 1 Axes>"
      ]
     },
     "metadata": {},
     "output_type": "display_data"
    }
   ],
   "source": [
    "# Example usage:\n",
    "# Assuming 'packet_df' contains the DataFrame with packet data and 'features' is a list of selected features\n",
    "cluster_and_visualize(capture1_df, ['Packet_Size', 'Time_Delta'])\n"
   ]
  },
  {
   "cell_type": "code",
   "execution_count": null,
   "metadata": {},
   "outputs": [
    {
     "data": {
      "image/png": "[encoded data removed]",
      "text/plain": [
       "<Figure size 1000x600 with 1 Axes>"
      ]
     },
     "metadata": {},
     "output_type": "display_data"
    }
   ],
   "source": [
    "cluster_and_visualize(capture1_df, ['Protocol', 'Packet_Size'])"
   ]
  },
  {
   "cell_type": "markdown",
   "metadata": {},
   "source": [
    "### capture 2 "
   ]
  },
  {
   "cell_type": "code",
   "execution_count": null,
   "metadata": {},
   "outputs": [
    {
     "data": {
      "image/png": "[encoded data removed]",
      "text/plain": [
       "<Figure size 1000x600 with 1 Axes>"
      ]
     },
     "metadata": {},
     "output_type": "display_data"
    }
   ],
   "source": [
    "cluster_and_visualize(capture2_df, ['Packet_Size', 'Time_Delta'])\n"
   ]
  },
  {
   "cell_type": "code",
   "execution_count": null,
   "metadata": {},
   "outputs": [
    {
     "data": {
      "image/png": "[encoded data removed]",
      "text/plain": [
       "<Figure size 1000x600 with 1 Axes>"
      ]
     },
     "metadata": {},
     "output_type": "display_data"
    }
   ],
   "source": [
    "cluster_and_visualize(capture2_df, ['Protocol', 'Packet_Size'])"
   ]
  },
  {
   "cell_type": "markdown",
   "metadata": {},
   "source": [
    "## session"
   ]
  },
  {
   "cell_type": "code",
   "execution_count": null,
   "metadata": {},
   "outputs": [],
   "source": [
    "from sklearn.cluster import KMeans\n",
    "import matplotlib.pyplot as plt\n",
    "\n",
    "def cluster_and_visualize(session_df, features, n_clusters=3):\n",
    "    # Select the features for clustering\n",
    "    X = session_df[features]\n",
    "\n",
    "    # Apply standardization if necessary\n",
    "    # (not always required, depends on the clustering algorithm and data distribution)\n",
    "    # Example:\n",
    "    # from sklearn.preprocessing import StandardScaler\n",
    "    # scaler = StandardScaler()\n",
    "    # X_scaled = scaler.fit_transform(X)\n",
    "\n",
    "    # Apply K-means clustering\n",
    "    kmeans = KMeans(n_clusters=n_clusters, random_state=42)\n",
    "    session_df['Cluster'] = kmeans.fit_predict(X)\n",
    "\n",
    "    # Visualize clusters\n",
    "    plt.figure(figsize=(10, 6))\n",
    "    for cluster in session_df['Cluster'].unique():\n",
    "        cluster_data = session_df[session_df['Cluster'] == cluster]\n",
    "        plt.scatter(cluster_data[features[0]], cluster_data[features[1]], label=f'Cluster {cluster}')\n",
    "    plt.xlabel(features[0])\n",
    "    plt.ylabel(features[1])\n",
    "    plt.title('Clustering of Sessions')\n",
    "    plt.legend()\n",
    "    plt.show()\n",
    "\n",
    "\n"
   ]
  },
  {
   "cell_type": "markdown",
   "metadata": {},
   "source": [
    "### session 1"
   ]
  },
  {
   "cell_type": "code",
   "execution_count": null,
   "metadata": {},
   "outputs": [
    {
     "data": {
      "image/png": "[encoded data removed]",
      "text/plain": [
       "<Figure size 1000x600 with 1 Axes>"
      ]
     },
     "metadata": {},
     "output_type": "display_data"
    }
   ],
   "source": [
    "# Example usage:\n",
    "# Assuming 'session_df' contains the DataFrame with session data and 'features' is a list of selected features\n",
    "cluster_and_visualize(capture1_session_info_df, ['packet_count', 'total_bytes'])"
   ]
  },
  {
   "cell_type": "code",
   "execution_count": null,
   "metadata": {},
   "outputs": [
    {
     "data": {
      "text/plain": [
       "Index(['packet_count', 'average_packet_size', 'average_time_delta',\n",
       "       'min_packet_size', 'max_packet_size', 'total_bytes',\n",
       "       'unique_source_ips', 'unique_destination_ips', 'unique_source_ports',\n",
       "       'unique_destination_ports', 'most_common_protocol', 'Cluster'],\n",
       "      dtype='object')"
      ]
     },
     "execution_count": 22,
     "metadata": {},
     "output_type": "execute_result"
    }
   ],
   "source": [
    "capture1_session_info_df.columns"
   ]
  },
  {
   "cell_type": "code",
   "execution_count": null,
   "metadata": {},
   "outputs": [
    {
     "data": {
      "image/png": "[encoded data removed]",
      "text/plain": [
       "<Figure size 1000x600 with 1 Axes>"
      ]
     },
     "metadata": {},
     "output_type": "display_data"
    }
   ],
   "source": [
    "cluster_and_visualize(capture1_session_info_df, ['average_packet_size', 'average_time_delta'])"
   ]
  },
  {
   "cell_type": "markdown",
   "metadata": {},
   "source": [
    "### session 2"
   ]
  },
  {
   "cell_type": "code",
   "execution_count": null,
   "metadata": {},
   "outputs": [
    {
     "data": {
      "image/png": "[encoded data removed]",
      "text/plain": [
       "<Figure size 1000x600 with 1 Axes>"
      ]
     },
     "metadata": {},
     "output_type": "display_data"
    }
   ],
   "source": [
    "cluster_and_visualize(capture2_session_info_df, ['packet_count', 'total_bytes'])"
   ]
  },
  {
   "cell_type": "code",
   "execution_count": null,
   "metadata": {},
   "outputs": [
    {
     "data": {
      "image/png": "[encoded data removed]",
      "text/plain": [
       "<Figure size 1000x600 with 1 Axes>"
      ]
     },
     "metadata": {},
     "output_type": "display_data"
    }
   ],
   "source": [
    "cluster_and_visualize(capture2_session_info_df, ['average_packet_size', 'average_time_delta'])"
   ]
  },
  {
   "cell_type": "markdown",
   "metadata": {},
   "source": [
    "# Detection d'anomalie"
   ]
  },
  {
   "cell_type": "markdown",
   "metadata": {},
   "source": [
    "## Detect on session"
   ]
  },
  {
   "cell_type": "code",
   "execution_count": 44,
   "metadata": {},
   "outputs": [
    {
     "data": {
      "text/plain": [
       "(555, 12)"
      ]
     },
     "execution_count": 44,
     "metadata": {},
     "output_type": "execute_result"
    }
   ],
   "source": [
    "test.shape"
   ]
  },
  {
   "cell_type": "code",
   "execution_count": 45,
   "metadata": {},
   "outputs": [
    {
     "data": {
      "text/plain": [
       "(597, 12)"
      ]
     },
     "execution_count": 45,
     "metadata": {},
     "output_type": "execute_result"
    }
   ],
   "source": [
    "train.shape"
   ]
  },
  {
   "cell_type": "code",
   "execution_count": 47,
   "metadata": {},
   "outputs": [
    {
     "data": {
      "text/plain": [
       "anomalie\n",
       "0    521\n",
       "1     76\n",
       "Name: count, dtype: int64"
      ]
     },
     "execution_count": 47,
     "metadata": {},
     "output_type": "execute_result"
    }
   ],
   "source": [
    "train['anomalie'].value_counts()"
   ]
  },
  {
   "cell_type": "code",
   "execution_count": 48,
   "metadata": {},
   "outputs": [
    {
     "data": {
      "text/plain": [
       "anomalie\n",
       "0    536\n",
       "1     19\n",
       "Name: count, dtype: int64"
      ]
     },
     "execution_count": 48,
     "metadata": {},
     "output_type": "execute_result"
    }
   ],
   "source": [
    "test['anomalie'].value_counts()"
   ]
  },
  {
   "cell_type": "code",
   "execution_count": 57,
   "metadata": {},
   "outputs": [
    {
     "data": {
      "text/html": [
       "<div>\n",
       "<style scoped>\n",
       "    .dataframe tbody tr th:only-of-type {\n",
       "        vertical-align: middle;\n",
       "    }\n",
       "\n",
       "    .dataframe tbody tr th {\n",
       "        vertical-align: top;\n",
       "    }\n",
       "\n",
       "    .dataframe thead th {\n",
       "        text-align: right;\n",
       "    }\n",
       "</style>\n",
       "<table border=\"1\" class=\"dataframe\">\n",
       "  <thead>\n",
       "    <tr style=\"text-align: right;\">\n",
       "      <th></th>\n",
       "      <th></th>\n",
       "      <th></th>\n",
       "      <th></th>\n",
       "      <th></th>\n",
       "      <th>packet_count</th>\n",
       "      <th>average_packet_size</th>\n",
       "      <th>average_time_delta</th>\n",
       "      <th>min_packet_size</th>\n",
       "      <th>max_packet_size</th>\n",
       "      <th>total_bytes</th>\n",
       "      <th>unique_source_ips</th>\n",
       "      <th>unique_destination_ips</th>\n",
       "      <th>unique_source_ports</th>\n",
       "      <th>unique_destination_ports</th>\n",
       "      <th>most_common_protocol</th>\n",
       "      <th>anomalie</th>\n",
       "    </tr>\n",
       "  </thead>\n",
       "  <tbody>\n",
       "    <tr>\n",
       "      <th>0.0.0.0</th>\n",
       "      <th>255.255.255.255</th>\n",
       "      <th>68.0</th>\n",
       "      <th>67.0</th>\n",
       "      <th>17.0</th>\n",
       "      <td>6</td>\n",
       "      <td>342.000000</td>\n",
       "      <td>0.000957</td>\n",
       "      <td>342</td>\n",
       "      <td>342</td>\n",
       "      <td>2052</td>\n",
       "      <td>1</td>\n",
       "      <td>1</td>\n",
       "      <td>1</td>\n",
       "      <td>1</td>\n",
       "      <td>17.0</td>\n",
       "      <td>0</td>\n",
       "    </tr>\n",
       "    <tr>\n",
       "      <th rowspan=\"4\" valign=\"top\">10.200.0.130</th>\n",
       "      <th>105.159.18.7</th>\n",
       "      <th>4500.0</th>\n",
       "      <th>4500.0</th>\n",
       "      <th>17.0</th>\n",
       "      <td>205</td>\n",
       "      <td>144.341463</td>\n",
       "      <td>0.000330</td>\n",
       "      <td>102</td>\n",
       "      <td>290</td>\n",
       "      <td>29590</td>\n",
       "      <td>1</td>\n",
       "      <td>1</td>\n",
       "      <td>1</td>\n",
       "      <td>1</td>\n",
       "      <td>17.0</td>\n",
       "      <td>0</td>\n",
       "    </tr>\n",
       "    <tr>\n",
       "      <th>119.39.240.90</th>\n",
       "      <th>4500.0</th>\n",
       "      <th>50293.0</th>\n",
       "      <th>17.0</th>\n",
       "      <td>172</td>\n",
       "      <td>124.232558</td>\n",
       "      <td>0.000304</td>\n",
       "      <td>106</td>\n",
       "      <td>158</td>\n",
       "      <td>21368</td>\n",
       "      <td>1</td>\n",
       "      <td>1</td>\n",
       "      <td>1</td>\n",
       "      <td>1</td>\n",
       "      <td>17.0</td>\n",
       "      <td>0</td>\n",
       "    </tr>\n",
       "    <tr>\n",
       "      <th rowspan=\"2\" valign=\"top\">128.92.92.124</th>\n",
       "      <th rowspan=\"2\" valign=\"top\">4500.0</th>\n",
       "      <th>27012.0</th>\n",
       "      <th>17.0</th>\n",
       "      <td>225</td>\n",
       "      <td>138.124444</td>\n",
       "      <td>0.000243</td>\n",
       "      <td>98</td>\n",
       "      <td>270</td>\n",
       "      <td>31078</td>\n",
       "      <td>1</td>\n",
       "      <td>1</td>\n",
       "      <td>1</td>\n",
       "      <td>1</td>\n",
       "      <td>17.0</td>\n",
       "      <td>0</td>\n",
       "    </tr>\n",
       "    <tr>\n",
       "      <th>39024.0</th>\n",
       "      <th>17.0</th>\n",
       "      <td>123</td>\n",
       "      <td>125.869919</td>\n",
       "      <td>0.000213</td>\n",
       "      <td>118</td>\n",
       "      <td>158</td>\n",
       "      <td>15482</td>\n",
       "      <td>1</td>\n",
       "      <td>1</td>\n",
       "      <td>1</td>\n",
       "      <td>1</td>\n",
       "      <td>17.0</td>\n",
       "      <td>0</td>\n",
       "    </tr>\n",
       "  </tbody>\n",
       "</table>\n",
       "</div>"
      ],
      "text/plain": [
       "                                                  packet_count  \\\n",
       "0.0.0.0      255.255.255.255 68.0   67.0    17.0             6   \n",
       "10.200.0.130 105.159.18.7    4500.0 4500.0  17.0           205   \n",
       "             119.39.240.90   4500.0 50293.0 17.0           172   \n",
       "             128.92.92.124   4500.0 27012.0 17.0           225   \n",
       "                                    39024.0 17.0           123   \n",
       "\n",
       "                                                  average_packet_size  \\\n",
       "0.0.0.0      255.255.255.255 68.0   67.0    17.0           342.000000   \n",
       "10.200.0.130 105.159.18.7    4500.0 4500.0  17.0           144.341463   \n",
       "             119.39.240.90   4500.0 50293.0 17.0           124.232558   \n",
       "             128.92.92.124   4500.0 27012.0 17.0           138.124444   \n",
       "                                    39024.0 17.0           125.869919   \n",
       "\n",
       "                                                  average_time_delta  \\\n",
       "0.0.0.0      255.255.255.255 68.0   67.0    17.0            0.000957   \n",
       "10.200.0.130 105.159.18.7    4500.0 4500.0  17.0            0.000330   \n",
       "             119.39.240.90   4500.0 50293.0 17.0            0.000304   \n",
       "             128.92.92.124   4500.0 27012.0 17.0            0.000243   \n",
       "                                    39024.0 17.0            0.000213   \n",
       "\n",
       "                                                  min_packet_size  \\\n",
       "0.0.0.0      255.255.255.255 68.0   67.0    17.0              342   \n",
       "10.200.0.130 105.159.18.7    4500.0 4500.0  17.0              102   \n",
       "             119.39.240.90   4500.0 50293.0 17.0              106   \n",
       "             128.92.92.124   4500.0 27012.0 17.0               98   \n",
       "                                    39024.0 17.0              118   \n",
       "\n",
       "                                                  max_packet_size  \\\n",
       "0.0.0.0      255.255.255.255 68.0   67.0    17.0              342   \n",
       "10.200.0.130 105.159.18.7    4500.0 4500.0  17.0              290   \n",
       "             119.39.240.90   4500.0 50293.0 17.0              158   \n",
       "             128.92.92.124   4500.0 27012.0 17.0              270   \n",
       "                                    39024.0 17.0              158   \n",
       "\n",
       "                                                  total_bytes  \\\n",
       "0.0.0.0      255.255.255.255 68.0   67.0    17.0         2052   \n",
       "10.200.0.130 105.159.18.7    4500.0 4500.0  17.0        29590   \n",
       "             119.39.240.90   4500.0 50293.0 17.0        21368   \n",
       "             128.92.92.124   4500.0 27012.0 17.0        31078   \n",
       "                                    39024.0 17.0        15482   \n",
       "\n",
       "                                                  unique_source_ips  \\\n",
       "0.0.0.0      255.255.255.255 68.0   67.0    17.0                  1   \n",
       "10.200.0.130 105.159.18.7    4500.0 4500.0  17.0                  1   \n",
       "             119.39.240.90   4500.0 50293.0 17.0                  1   \n",
       "             128.92.92.124   4500.0 27012.0 17.0                  1   \n",
       "                                    39024.0 17.0                  1   \n",
       "\n",
       "                                                  unique_destination_ips  \\\n",
       "0.0.0.0      255.255.255.255 68.0   67.0    17.0                       1   \n",
       "10.200.0.130 105.159.18.7    4500.0 4500.0  17.0                       1   \n",
       "             119.39.240.90   4500.0 50293.0 17.0                       1   \n",
       "             128.92.92.124   4500.0 27012.0 17.0                       1   \n",
       "                                    39024.0 17.0                       1   \n",
       "\n",
       "                                                  unique_source_ports  \\\n",
       "0.0.0.0      255.255.255.255 68.0   67.0    17.0                    1   \n",
       "10.200.0.130 105.159.18.7    4500.0 4500.0  17.0                    1   \n",
       "             119.39.240.90   4500.0 50293.0 17.0                    1   \n",
       "             128.92.92.124   4500.0 27012.0 17.0                    1   \n",
       "                                    39024.0 17.0                    1   \n",
       "\n",
       "                                                  unique_destination_ports  \\\n",
       "0.0.0.0      255.255.255.255 68.0   67.0    17.0                         1   \n",
       "10.200.0.130 105.159.18.7    4500.0 4500.0  17.0                         1   \n",
       "             119.39.240.90   4500.0 50293.0 17.0                         1   \n",
       "             128.92.92.124   4500.0 27012.0 17.0                         1   \n",
       "                                    39024.0 17.0                         1   \n",
       "\n",
       "                                                  most_common_protocol  \\\n",
       "0.0.0.0      255.255.255.255 68.0   67.0    17.0                  17.0   \n",
       "10.200.0.130 105.159.18.7    4500.0 4500.0  17.0                  17.0   \n",
       "             119.39.240.90   4500.0 50293.0 17.0                  17.0   \n",
       "             128.92.92.124   4500.0 27012.0 17.0                  17.0   \n",
       "                                    39024.0 17.0                  17.0   \n",
       "\n",
       "                                                  anomalie  \n",
       "0.0.0.0      255.255.255.255 68.0   67.0    17.0         0  \n",
       "10.200.0.130 105.159.18.7    4500.0 4500.0  17.0         0  \n",
       "             119.39.240.90   4500.0 50293.0 17.0         0  \n",
       "             128.92.92.124   4500.0 27012.0 17.0         0  \n",
       "                                    39024.0 17.0         0  "
      ]
     },
     "execution_count": 57,
     "metadata": {},
     "output_type": "execute_result"
    }
   ],
   "source": [
    "train.head()"
   ]
  },
  {
   "cell_type": "code",
   "execution_count": 46,
   "metadata": {},
   "outputs": [
    {
     "name": "stdout",
     "output_type": "stream",
     "text": [
      "========================= Model: Logistic Regression =========================\n",
      "              precision    recall  f1-score   support\n",
      "\n",
      "           0       0.97      1.00      0.98       536\n",
      "           1       1.00      0.05      0.10        19\n",
      "\n",
      "    accuracy                           0.97       555\n",
      "   macro avg       0.98      0.53      0.54       555\n",
      "weighted avg       0.97      0.97      0.95       555\n",
      "\n",
      "========================= Model: SVM =========================\n"
     ]
    },
    {
     "name": "stderr",
     "output_type": "stream",
     "text": [
      "C:\\Users\\idris\\AppData\\Local\\Packages\\PythonSoftwareFoundation.Python.3.10_qbz5n2kfra8p0\\LocalCache\\local-packages\\Python310\\site-packages\\sklearn\\metrics\\_classification.py:1509: UndefinedMetricWarning: Precision is ill-defined and being set to 0.0 in labels with no predicted samples. Use `zero_division` parameter to control this behavior.\n",
      "  _warn_prf(average, modifier, f\"{metric.capitalize()} is\", len(result))\n",
      "C:\\Users\\idris\\AppData\\Local\\Packages\\PythonSoftwareFoundation.Python.3.10_qbz5n2kfra8p0\\LocalCache\\local-packages\\Python310\\site-packages\\sklearn\\metrics\\_classification.py:1509: UndefinedMetricWarning: Precision is ill-defined and being set to 0.0 in labels with no predicted samples. Use `zero_division` parameter to control this behavior.\n",
      "  _warn_prf(average, modifier, f\"{metric.capitalize()} is\", len(result))\n",
      "C:\\Users\\idris\\AppData\\Local\\Packages\\PythonSoftwareFoundation.Python.3.10_qbz5n2kfra8p0\\LocalCache\\local-packages\\Python310\\site-packages\\sklearn\\metrics\\_classification.py:1509: UndefinedMetricWarning: Precision is ill-defined and being set to 0.0 in labels with no predicted samples. Use `zero_division` parameter to control this behavior.\n",
      "  _warn_prf(average, modifier, f\"{metric.capitalize()} is\", len(result))\n"
     ]
    },
    {
     "name": "stdout",
     "output_type": "stream",
     "text": [
      "              precision    recall  f1-score   support\n",
      "\n",
      "           0       0.97      1.00      0.98       536\n",
      "           1       0.00      0.00      0.00        19\n",
      "\n",
      "    accuracy                           0.97       555\n",
      "   macro avg       0.48      0.50      0.49       555\n",
      "weighted avg       0.93      0.97      0.95       555\n",
      "\n",
      "========================= Model: Random Forest =========================\n",
      "              precision    recall  f1-score   support\n",
      "\n",
      "           0       0.98      0.97      0.98       536\n",
      "           1       0.38      0.47      0.42        19\n",
      "\n",
      "    accuracy                           0.95       555\n",
      "   macro avg       0.68      0.72      0.70       555\n",
      "weighted avg       0.96      0.95      0.96       555\n",
      "\n"
     ]
    }
   ],
   "source": [
    "from sklearn.model_selection import train_test_split\n",
    "from sklearn.linear_model import LogisticRegression\n",
    "from sklearn.svm import SVC\n",
    "from sklearn.ensemble import RandomForestClassifier\n",
    "from sklearn.metrics import classification_report\n",
    "\n",
    "# Define models\n",
    "models = {\n",
    "    'Logistic Regression': LogisticRegression(max_iter=2000, n_jobs=-1),\n",
    "    'SVM': SVC(),\n",
    "    'Random Forest': RandomForestClassifier()\n",
    "}\n",
    "\n",
    "# Define features and target variable for train and test DataFrames\n",
    "X_train = train.drop(columns=['anomalie'])  # Features for train DataFrame\n",
    "y_train = train['anomalie']  # Target variable for train DataFrame\n",
    "\n",
    "X_test = test.drop(columns=['anomalie'])  # Features for test DataFrame\n",
    "y_test = test['anomalie']  # Target variable for test DataFrame\n",
    "\n",
    "# Iterate over each model\n",
    "for model_name, model in models.items():\n",
    "    print(f'========================= Model: {model_name} =========================')\n",
    "    \n",
    "    # Train the model\n",
    "    model.fit(X_train, y_train)\n",
    "    \n",
    "    # Predictions\n",
    "    predictions = model.predict(X_test)\n",
    "    \n",
    "    # Classification report\n",
    "    report = classification_report(y_test, predictions)\n",
    "    print(report)\n"
   ]
  }
 ],
 "metadata": {
  "kernelspec": {
   "display_name": "Python 3",
   "language": "python",
   "name": "python3"
  },
  "language_info": {
   "codemirror_mode": {
    "name": "ipython",
    "version": 3
   },
   "file_extension": ".py",
   "mimetype": "text/x-python",
   "name": "python",
   "nbconvert_exporter": "python",
   "pygments_lexer": "ipython3",
   "version": "3.10.11"
  }
 },
 "nbformat": 4,
 "nbformat_minor": 2
}
